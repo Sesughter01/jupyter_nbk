{
 "cells": [
  {
   "cell_type": "code",
   "execution_count": 14,
   "id": "cfbe59c1",
   "metadata": {},
   "outputs": [],
   "source": [
    "import pandas as pd\n",
    "import random"
   ]
  },
  {
   "cell_type": "code",
   "execution_count": 3,
   "id": "e089537f",
   "metadata": {},
   "outputs": [
    {
     "data": {
      "text/plain": [
       "Jane    90\n",
       "Bill    80\n",
       "Elon    85\n",
       "Tom     75\n",
       "Tim     95\n",
       "dtype: int64"
      ]
     },
     "execution_count": 3,
     "metadata": {},
     "output_type": "execute_result"
    }
   ],
   "source": [
    "score = {\"Jane\":90, \"Bill\":80,\"Elon\":85,\"Tom\":75,\"Tim\":95}\n",
    "names = pd.Series(score) # Conver to series\n",
    "names\n"
   ]
  },
  {
   "cell_type": "code",
   "execution_count": 22,
   "id": "9465fc2c",
   "metadata": {},
   "outputs": [
    {
     "data": {
      "text/plain": [
       "0    a\n",
       "1    b\n",
       "2    c\n",
       "3    d\n",
       "4    e\n",
       "5    f\n",
       "6    g\n",
       "7    h\n",
       "8    i\n",
       "9    j\n",
       "a    7\n",
       "b    3\n",
       "c    1\n",
       "d    6\n",
       "e    5\n",
       "f    0\n",
       "g    9\n",
       "h    4\n",
       "i    1\n",
       "j    8\n",
       "dtype: object"
      ]
     },
     "execution_count": 22,
     "metadata": {},
     "output_type": "execute_result"
    }
   ],
   "source": [
    "alphas = [\"a\",\"b\",\"c\",\"d\",\"e\",\"f\",\"g\",\"h\",\"i\",\"j\"]\n",
    "random_vals = pd.Series(alphas)\n",
    "for val in range(11):\n",
    "    random_vals[\"a\"]= random.randint(0,10)\n",
    "    random_vals[\"b\"]= random.randint(0,10)\n",
    "    random_vals[\"c\"]= random.randint(0,10)\n",
    "    random_vals[\"d\"]= random.randint(0,10)\n",
    "    random_vals[\"e\"]= random.randint(0,10)\n",
    "    random_vals[\"f\"]= random.randint(0,10)\n",
    "    random_vals[\"g\"]= random.randint(0,10)\n",
    "    random_vals[\"h\"]= random.randint(0,10)\n",
    "    random_vals[\"i\"]= random.randint(0,10)\n",
    "    random_vals[\"j\"]= random.randint(0,10)\n",
    "random_vals   "
   ]
  },
  {
   "cell_type": "code",
   "execution_count": 23,
   "id": "fc96ea0e",
   "metadata": {},
   "outputs": [],
   "source": [
    "data = {\n",
    "      \"index\":[\"a\",\"b\",\"c\"],\n",
    "      \"name\" :[\"Ade\",\"Bella\",\"Clara\"],\n",
    "      \"age\":[10,15,9]\n",
    "}"
   ]
  },
  {
   "cell_type": "code",
   "execution_count": 25,
   "id": "a949e8fd",
   "metadata": {},
   "outputs": [],
   "source": [
    "df= pd.DataFrame(data)"
   ]
  },
  {
   "cell_type": "code",
   "execution_count": 26,
   "id": "f6e177f0",
   "metadata": {},
   "outputs": [
    {
     "data": {
      "text/html": [
       "<div>\n",
       "<style scoped>\n",
       "    .dataframe tbody tr th:only-of-type {\n",
       "        vertical-align: middle;\n",
       "    }\n",
       "\n",
       "    .dataframe tbody tr th {\n",
       "        vertical-align: top;\n",
       "    }\n",
       "\n",
       "    .dataframe thead th {\n",
       "        text-align: right;\n",
       "    }\n",
       "</style>\n",
       "<table border=\"1\" class=\"dataframe\">\n",
       "  <thead>\n",
       "    <tr style=\"text-align: right;\">\n",
       "      <th></th>\n",
       "      <th>index</th>\n",
       "      <th>name</th>\n",
       "      <th>age</th>\n",
       "    </tr>\n",
       "  </thead>\n",
       "  <tbody>\n",
       "    <tr>\n",
       "      <th>0</th>\n",
       "      <td>a</td>\n",
       "      <td>Ade</td>\n",
       "      <td>10</td>\n",
       "    </tr>\n",
       "    <tr>\n",
       "      <th>1</th>\n",
       "      <td>b</td>\n",
       "      <td>Bella</td>\n",
       "      <td>15</td>\n",
       "    </tr>\n",
       "    <tr>\n",
       "      <th>2</th>\n",
       "      <td>c</td>\n",
       "      <td>Clara</td>\n",
       "      <td>9</td>\n",
       "    </tr>\n",
       "  </tbody>\n",
       "</table>\n",
       "</div>"
      ],
      "text/plain": [
       "  index   name  age\n",
       "0     a    Ade   10\n",
       "1     b  Bella   15\n",
       "2     c  Clara    9"
      ]
     },
     "execution_count": 26,
     "metadata": {},
     "output_type": "execute_result"
    }
   ],
   "source": [
    "df"
   ]
  },
  {
   "cell_type": "code",
   "execution_count": null,
   "id": "677d42d1",
   "metadata": {},
   "outputs": [],
   "source": []
  },
  {
   "cell_type": "code",
   "execution_count": null,
   "id": "426e07c2",
   "metadata": {},
   "outputs": [],
   "source": []
  },
  {
   "cell_type": "code",
   "execution_count": null,
   "id": "5f4f3644",
   "metadata": {},
   "outputs": [],
   "source": []
  },
  {
   "cell_type": "code",
   "execution_count": null,
   "id": "19318b56",
   "metadata": {},
   "outputs": [],
   "source": []
  }
 ],
 "metadata": {
  "kernelspec": {
   "display_name": "Python 3 (ipykernel)",
   "language": "python",
   "name": "python3"
  },
  "language_info": {
   "codemirror_mode": {
    "name": "ipython",
    "version": 3
   },
   "file_extension": ".py",
   "mimetype": "text/x-python",
   "name": "python",
   "nbconvert_exporter": "python",
   "pygments_lexer": "ipython3",
   "version": "3.7.9"
  }
 },
 "nbformat": 4,
 "nbformat_minor": 5
}
