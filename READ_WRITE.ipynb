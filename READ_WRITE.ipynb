{
 "cells": [
  {
   "cell_type": "code",
   "execution_count": null,
   "id": "ca87a36d",
   "metadata": {},
   "outputs": [],
   "source": [
    "# READING AND WRITING DATA"
   ]
  },
  {
   "cell_type": "code",
   "execution_count": 22,
   "id": "f14a0057",
   "metadata": {},
   "outputs": [],
   "source": [
    "import pandas as pd\n",
    "df = pd.read_csv(\"supermarket_sales - Sheet1.csv\")\n",
    "mask = df.Gender =='Male'\n",
    "male_sales = df[mask]\n",
    "\n",
    "mask = df.Gender =='Female'\n",
    "female_sales= df[mask]"
   ]
  },
  {
   "cell_type": "code",
   "execution_count": null,
   "id": "ccc89eac",
   "metadata": {},
   "outputs": [],
   "source": [
    "# # WRITE MALE AND FEMALE SALES INDIVIDUALLY TO CSV"
   ]
  },
  {
   "cell_type": "code",
   "execution_count": 24,
   "id": "cc6c2121",
   "metadata": {},
   "outputs": [],
   "source": [
    "male_sales.to_csv(\"datasets/male_sales.csv\")\n",
    "female_sales.to_csv(\"datasets/female_sales.csv\")\n"
   ]
  },
  {
   "cell_type": "code",
   "execution_count": null,
   "id": "0ccc0bfb",
   "metadata": {},
   "outputs": [],
   "source": []
  },
  {
   "cell_type": "code",
   "execution_count": null,
   "id": "ecf2d56c",
   "metadata": {},
   "outputs": [],
   "source": [
    "# READ MS Excel"
   ]
  },
  {
   "cell_type": "code",
   "execution_count": 39,
   "id": "ebc8cbf0",
   "metadata": {},
   "outputs": [],
   "source": [
    "female_df = pd.read_excel(\"datasets/m_f_sales.xlsx\", sheet_name = \"female_sales\")\n",
    "male_df = pd.read_excel(\"datasets/m_f_sales.xlsx\", sheet_name = \"male_sales\")\n"
   ]
  },
  {
   "cell_type": "code",
   "execution_count": 40,
   "id": "2d11a21c",
   "metadata": {},
   "outputs": [],
   "source": [
    "branch_a_mask = female_df[\"Branch\"]==\"A\"\n",
    "branch_b_mask = female_df[\"Branch\"]==\"B\""
   ]
  },
  {
   "cell_type": "code",
   "execution_count": 41,
   "id": "dc6aab99",
   "metadata": {},
   "outputs": [],
   "source": [
    "# FILTER THE ENTIRE DBASE\n",
    "branch_a = female_df[branch_a_mask]\n",
    "branch_b = female_df[branch_b_mask]\n"
   ]
  },
  {
   "cell_type": "code",
   "execution_count": 43,
   "id": "a579b15e",
   "metadata": {},
   "outputs": [],
   "source": [
    "with pd.ExcelWriter('branches.xlsx',mode = 'w') as writer:\n",
    "    branch_a.to_excel(writer, sheet_name = \"Branch A\")\n",
    "    branch_b.to_excel(writer, sheet_name = \"Branch B\")"
   ]
  },
  {
   "cell_type": "code",
   "execution_count": null,
   "id": "b7a3e2e2",
   "metadata": {},
   "outputs": [],
   "source": []
  }
 ],
 "metadata": {
  "kernelspec": {
   "display_name": "Python 3 (ipykernel)",
   "language": "python",
   "name": "python3"
  },
  "language_info": {
   "codemirror_mode": {
    "name": "ipython",
    "version": 3
   },
   "file_extension": ".py",
   "mimetype": "text/x-python",
   "name": "python",
   "nbconvert_exporter": "python",
   "pygments_lexer": "ipython3",
   "version": "3.7.9"
  }
 },
 "nbformat": 4,
 "nbformat_minor": 5
}
