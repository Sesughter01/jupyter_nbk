{
 "cells": [
  {
   "cell_type": "code",
   "execution_count": 16,
   "id": "a6fb975c",
   "metadata": {},
   "outputs": [],
   "source": [
    "import pymysql.cursors\n",
    "\n",
    "def write_to_db(accName, accNum,BVN,accountStatus):\n",
    "    # Connect to the database\n",
    "    connection = pymysql.connect(host='localhost',\n",
    "                             user='root',\n",
    "                             password='Kelikume11&&',\n",
    "                             database='interbank',\n",
    "                             cursorclass=pymysql.cursors.DictCursor)\n",
    "\n",
    "    with connection:\n",
    "        with connection.cursor() as cursor:\n",
    "            # Create a new record\n",
    "            sql = \"INSERT INTO `accounts` (accountName, accountNumber,BVN, accountStatus) VALUES ('{0}', '{1}','{2}','{3}')\"\n",
    "            cursor.execute(sql.format(accName, accNum,BVN, accountStatus))\n",
    "\n",
    "        # connection is not autocommit by default. So you must commit to save\n",
    "        # your changes.\n",
    "            connection.commit()"
   ]
  },
  {
   "cell_type": "code",
   "execution_count": 2,
   "id": "7f24cd3b",
   "metadata": {},
   "outputs": [
    {
     "name": "stdout",
     "output_type": "stream",
     "text": [
      "\taccountName      accountNumber             BVN             accountStatus\n",
      "\n",
      "\tJohn Okafor      3453423654                1234567                 0 \n",
      "\n",
      "\tJohn Okafornutr  3453423655                1234569                 1 \n",
      "\n",
      "\tJohn Oka         3453423656                1234571                 0 \n",
      "\n",
      "\tJoh Okafor       3453423657                1234573                 1 \n",
      "\n",
      "\tJohn Okafo       3453423658                1234575                 1 \n",
      "\n",
      "\thon Okafor       3453423659                1234577                 1 \n",
      "\n",
      "\tJ Okar           3453423610                1234579                 1 \n",
      "\n",
      "\tJohn kafor       3453423611                1234581                 1 \n",
      "\n",
      "\tJon mkafor       3453423612                1234583                 1 \n",
      "\n",
      "\tJin Okafor       3453423613                1234585                 1 \n",
      "\n",
      "\tn Okafor         3453423614                1234587                 1 \n",
      "\n",
      "\tJohn Okor        3453423615                1234589                 1 \n",
      "\n",
      "\tJohn Okaor       3453423616                1234591                 1 \n",
      "\n",
      "\tJn kafor         3453423617                1234593                 1 \n",
      "\n",
      "\tJn Okfor         3453423618                1234595                 1 \n",
      "\n",
      "\tJohn Okanor      3453423619                1234597                 1 \n",
      "\n",
      "\tJohn Okaf        3453423620                1234599                 0 \n",
      "\n",
      "\tJhn Okafr        3453423621                1234601                 0 \n",
      "\n",
      "\tJohn mOkafor     3453423622                1234603                 0 \n",
      "\n"
     ]
    }
   ],
   "source": [
    "import pymysql.cursors\n",
    "import csv\n",
    "\n",
    "with open('interbank_accts.csv') as csv_file:\n",
    "    csv_reader = csv.reader(csv_file, delimiter=',')\n",
    "#     print(list(csv_reader))\n",
    "    line_count = 0\n",
    "    for row in csv_reader:\n",
    "        if line_count == 0:\n",
    "            print(f'\\t{row[0].ljust(15)}  {row[1].ljust(25)} {row[2].ljust(15)} {row[3].rjust(9)}\\n')\n",
    "#             write_to_db(row[0],row[1],row[2],row[3])\n",
    "            line_count += 1\n",
    "           \n",
    "            \n",
    "        else:\n",
    "            print(f'\\t{row[0].ljust(15)}  {row[1].ljust(25)} {row[2].ljust(15)} {row[3].rjust(9)} \\n')\n",
    "            \n",
    "#             write_to_db(row[0],row[1],row[2],row[3])\n",
    "            line_count += 1    \n",
    "#         print(f'Processed {line_count} lines.')\n",
    "\n"
   ]
  },
  {
   "cell_type": "code",
   "execution_count": null,
   "id": "0e3099d3",
   "metadata": {},
   "outputs": [],
   "source": [
    "\n",
    "   "
   ]
  },
  {
   "cell_type": "code",
   "execution_count": null,
   "id": "294436f8",
   "metadata": {},
   "outputs": [],
   "source": []
  }
 ],
 "metadata": {
  "kernelspec": {
   "display_name": "Python 3 (ipykernel)",
   "language": "python",
   "name": "python3"
  },
  "language_info": {
   "codemirror_mode": {
    "name": "ipython",
    "version": 3
   },
   "file_extension": ".py",
   "mimetype": "text/x-python",
   "name": "python",
   "nbconvert_exporter": "python",
   "pygments_lexer": "ipython3",
   "version": "3.7.9"
  }
 },
 "nbformat": 4,
 "nbformat_minor": 5
}
