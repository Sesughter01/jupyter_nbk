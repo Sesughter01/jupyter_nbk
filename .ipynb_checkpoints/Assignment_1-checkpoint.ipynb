{
 "cells": [
  {
   "cell_type": "code",
   "execution_count": 92,
   "id": "7a5318db",
   "metadata": {},
   "outputs": [],
   "source": [
    "import pymysql.cursors"
   ]
  },
  {
   "cell_type": "code",
   "execution_count": null,
   "id": "dfe52248",
   "metadata": {},
   "outputs": [],
   "source": [
    "# DEFINE FUNCTION TO WRITE DATA TO DBASE"
   ]
  },
  {
   "cell_type": "code",
   "execution_count": 124,
   "id": "49c6ba23",
   "metadata": {},
   "outputs": [],
   "source": [
    "def write_to_db( query:str):\n",
    "    \n",
    "    \"\"\"\n",
    "        This function takes a query and then sends it to the database.\n",
    "    \"\"\"\n",
    "    connection = pymysql.connect(host='localhost',\n",
    "                                 user='root',\n",
    "                                 password='Kelikume11&&',\n",
    "                                 database= \"loans\",\n",
    "                                 cursorclass=pymysql.cursors.DictCursor)\n",
    "    with connection:\n",
    "        with connection.cursor() as cursor:\n",
    "            cursor.execute(query)\n",
    "\n",
    "        connection.commit()"
   ]
  },
  {
   "cell_type": "code",
   "execution_count": 125,
   "id": "6ec26518",
   "metadata": {},
   "outputs": [],
   "source": [
    "# DEFINE FUNCTION TO INSERT RECORDS INTO TABLE"
   ]
  },
  {
   "cell_type": "code",
   "execution_count": 192,
   "id": "4b96a408",
   "metadata": {},
   "outputs": [],
   "source": [
    "def insert_to_db(colnames:list,records:list,table_name:str):\n",
    "    # Connect to the database\n",
    "    connection = pymysql.connect(host='localhost',\n",
    "                             user='root',\n",
    "                             password='Kelikume11&&',\n",
    "                             database='loans',\n",
    "                             cursorclass=pymysql.cursors.DictCursor)\n",
    "\n",
    "    with connection:\n",
    "        with connection.cursor() as cursor:\n",
    "            # Create a new record\n",
    "             for record in records:    \n",
    "                sql = f\"INSERT INTO `{table_name}`({colnames[0]},{colnames[1]},{colnames[2]},{colnames[3]},{colnames[4]})  VALUES ('{record[0]}','{record[1]}','{record[2]}','{record[3]}','{record[4]}')\"\n",
    "                cursor.execute(sql)\n",
    "        connection.commit()\n",
    "        # connection is not autocommit by default. So you must commit to save\n",
    "        # your changes.\n"
   ]
  },
  {
   "cell_type": "code",
   "execution_count": 193,
   "id": "4e35666b",
   "metadata": {},
   "outputs": [],
   "source": [
    "# COLLECT DICTIONARY KEYS"
   ]
  },
  {
   "cell_type": "code",
   "execution_count": 186,
   "id": "8634e5e3",
   "metadata": {},
   "outputs": [],
   "source": [
    "import csv\n",
    "def process_file()->dict:\n",
    "    \n",
    "    \"\"\"This function gets a file name(csv format), \n",
    "        reads it and returns the column names, \n",
    "        also the records and filename, in a dictionary\n",
    "    \"\"\"\n",
    "    \n",
    "    header = None # COLUMN NAMES\n",
    "    records = [] # CORRESPONDING TABLE RECORDS FROM CSV\n",
    "    path_csv_file =\"\"\n",
    "    path = input(\"Please enter file name or path\\n:> \")\n",
    "#     path_csv_file += path+\".csv\" \n",
    "    with open(path) as csv_file:\n",
    "        \n",
    "        csv_reader = csv.reader(csv_file, delimiter=',')\n",
    "        line_count = 0\n",
    "        for row in csv_reader:\n",
    "\n",
    "            if line_count == 0:\n",
    "#                  print(f'\\t{row[1].ljust(15)} {row[3].ljust(25)} {row[5].ljust(15)}  {row[14].rjust(9)} {row[9].rjust(9)} \\n')\n",
    "                header = row[:5] # We assign the first row as the header.\n",
    "                line_count += 1\n",
    "            else:\n",
    "                recs = row[:5]\n",
    "#                 print(f'\\t{row[1].ljust(15)} {row[3].ljust(25)} {row[5].ljust(15)}  {row[14].rjust(9)} {row[9].rjust(9)} \\n')\n",
    "                records.append(recs) # Here we assign all the other rows to the records list.\n",
    "                line_count += 1\n",
    "        print(f'Processed {line_count} lines.')\n",
    "    \n",
    "    de_extensioned_filename = path.split(\".\")[0].replace(\" \", \"\").replace(\"-\", \"\")\n",
    "    return dict(colnames = header, records = records, filename = de_extensioned_filename)"
   ]
  },
  {
   "cell_type": "code",
   "execution_count": 183,
   "id": "9c00ef66",
   "metadata": {},
   "outputs": [],
   "source": [
    "def create_table_from_cols(colnames:list, use_name:str):\n",
    "    \n",
    "    \"\"\"\n",
    "        This function will allow you to pass in a list of column names, \n",
    "        and another string which is the name for the new table,\n",
    "        It will then create an sql query that would be used to create\n",
    "        corresponding sql table.\n",
    "        \n",
    "        returns boolean (True/False) if task is successful or not respectively.\n",
    "    \"\"\"\n",
    "    \n",
    "    sql_query = f\"CREATE TABLE {use_name} (main_id INT(4) PRIMARY KEY AUTO_INCREMENT NOT NULL\" # Creat base query which will be same accross all tables created.\n",
    "    \n",
    "    for colname in colnames:\n",
    "        \n",
    "        if colname == \"\": # Deal with column name that are empty\n",
    "            colname = \"unknown_col\"\n",
    "        \n",
    "        colname = colname.replace(\" \", \"\")\n",
    "        sql_query += f\", {str(colname).strip()} VARCHAR(30)\" # Table info for each column name.\n",
    "    sql_query += \")\" # Add closing tokens to query\n",
    "    \n",
    "    \n",
    "    print(sql_query)\n",
    "    write_to_db(sql_query)\n",
    "    print(sql_query)\n",
    "    \n",
    "    return use_name\n",
    "    "
   ]
  },
  {
   "cell_type": "code",
   "execution_count": null,
   "id": "f51893a1",
   "metadata": {},
   "outputs": [],
   "source": []
  },
  {
   "cell_type": "code",
   "execution_count": 128,
   "id": "f8eed6d3",
   "metadata": {},
   "outputs": [],
   "source": [
    "def write_records_to_db(colnames:list,records:list, table_name:str,dbase)->bool:\n",
    "    \"\"\"\n",
    "        This function will allow you to pass in a list of column names, \n",
    "        and another string which is the name for the new table,\n",
    "        It will then create an sql query that would be used to create\n",
    "        corresponding sql table.\n",
    "        \n",
    "        returns boolean (True/False) if task is successful or not respectively.\n",
    "    \"\"\"\n",
    "    \n",
    "    sql_query_2 = \"\" # Creat base query which will be same accross all tables created.\n",
    "\n",
    "    for record in records:\n",
    "\n",
    "        if record == \"\": # Deal with record names that are empty\n",
    "            record = \"unknown_rec\"\n",
    "\n",
    "#         record = record.remove(\" \", \"\")\n",
    "        sql_query_2 += f\"INSERT INTO {str(table_name).strip()} ({colnames[0]}, {colnames[1]},{colnames[2]}, {colnames[3]})\"\n",
    "        sql_query_2 += f\" VALUES ('{0}', '{1}','{2}','{3}')\" # Add closing tokens to query\n",
    "#         cursor.execute(sql.format(accName, accNum,BVN, accountStatus))\n",
    "\n",
    "        print(sql_query_2)\n",
    "        insert_to_db(sql_query_2)\n",
    "        print(sql_query_2)\n",
    "\n",
    "        return True\n"
   ]
  },
  {
   "cell_type": "code",
   "execution_count": null,
   "id": "e78f9b62",
   "metadata": {},
   "outputs": [],
   "source": []
  },
  {
   "cell_type": "code",
   "execution_count": 194,
   "id": "6ba6ceb6",
   "metadata": {},
   "outputs": [
    {
     "name": "stdout",
     "output_type": "stream",
     "text": [
      "Please enter file name or path\n",
      ":> Loan-2022-02-27.csv\n",
      "Processed 8904 lines.\n",
      "CREATE TABLE newloans (main_id INT(4) PRIMARY KEY AUTO_INCREMENT NOT NULL, id VARCHAR(30), customerId VARCHAR(30), currency VARCHAR(30), loanAmount VARCHAR(30), elgible_amount VARCHAR(30))\n",
      "CREATE TABLE newloans (main_id INT(4) PRIMARY KEY AUTO_INCREMENT NOT NULL, id VARCHAR(30), customerId VARCHAR(30), currency VARCHAR(30), loanAmount VARCHAR(30), elgible_amount VARCHAR(30))\n"
     ]
    }
   ],
   "source": [
    "\n",
    "\n",
    "mycsv_data= process_file()\n",
    "mycolnames = mycsv_data[\"colnames\"]\n",
    "myrecnames = mycsv_data[\"records\"]\n",
    "mytable    = create_table_from_cols(mycolnames, \"newloans\")\n",
    "\n",
    "insert_to_db(mycolnames,myrecnames,mytable)\n"
   ]
  },
  {
   "cell_type": "code",
   "execution_count": null,
   "id": "aaea20a5",
   "metadata": {},
   "outputs": [],
   "source": []
  },
  {
   "cell_type": "code",
   "execution_count": null,
   "id": "eba19026",
   "metadata": {},
   "outputs": [],
   "source": [
    "# DEFINE FUNCTION TO RETRIEVE DATA FROM DATABASE AND CONVERT TO .CSV FILE"
   ]
  },
  {
   "cell_type": "code",
   "execution_count": null,
   "id": "64c629ec",
   "metadata": {},
   "outputs": [],
   "source": [
    "import pymysql.cursors\n",
    "\n",
    "\n",
    "def retrieve_data(tablename)->list:\n",
    "    \n",
    "    \"\"\"This function retrieves data from a database table and\n",
    "         reads it and returns the data as a csv file. \n",
    "       \n",
    "    \"\"\"\n",
    "   # Connect to the database\n",
    "   connection = pymysql.connect(host='localhost',\n",
    "                             user='root',\n",
    "                             password='Kelikume11&&',\n",
    "                             database=\"loans\",\n",
    "                             cursorclass=pymysql.cursors.DictCursor)\n",
    "\n",
    "        with connection:\n",
    "            with connection.cursor() as cursor:\n",
    "                # Create a new record\n",
    "                sql = \"SELECT * FROM {tablename} \"\n",
    "                cursor.execute(sql)\n",
    "                result = cursor.fetchall()\n",
    "                print(result)\n",
    "                connection.commit()\n",
    "#     header = None # COLUMN NAMES\n",
    "#     records = [] # CORRESPONDING TABLE RECORDS FROM CSV\n",
    "    \n",
    "#     path = input(\"Please enter file name or path\\n:> \")\n",
    "#     with open(path) as csv_file:\n",
    "        \n",
    "#         csv_reader = csv.reader(csv_file, delimiter=',')\n",
    "#         line_count = 0\n",
    "#         for row in csv_reader:\n",
    "\n",
    "#             if line_count == 0:\n",
    "# #                 print(f'\\t{row[1].ljust(15)} {row[3].ljust(25)} {row[5].ljust(15)}  {row[14].rjust(9)} {row[9].rjust(9)} \\n')\n",
    "#                 header = row # We assign the first row as the header.\n",
    "#                 line_count += 1\n",
    "#             else:\n",
    "# #                 print(f'\\t{row[1].ljust(15)} {row[3].ljust(25)} {row[5].ljust(15)}  {row[14].rjust(9)} {row[9].rjust(9)} \\n')\n",
    "#                 records.append(row) # Here we assign all the other rows to the records list.\n",
    "#                 line_count += 1\n",
    "#         print(f'Processed {line_count} lines.')\n",
    "    \n",
    "#     de_extensioned_filename = path.split(\".\")[0].replace(\" \", \"\").replace(\"-\", \"\")\n",
    "#     return dict(colnames = header, records = records, filename = de_extensioned_filename)\n",
    "        "
   ]
  }
 ],
 "metadata": {
  "kernelspec": {
   "display_name": "Python 3 (ipykernel)",
   "language": "python",
   "name": "python3"
  },
  "language_info": {
   "codemirror_mode": {
    "name": "ipython",
    "version": 3
   },
   "file_extension": ".py",
   "mimetype": "text/x-python",
   "name": "python",
   "nbconvert_exporter": "python",
   "pygments_lexer": "ipython3",
   "version": "3.7.9"
  }
 },
 "nbformat": 4,
 "nbformat_minor": 5
}
