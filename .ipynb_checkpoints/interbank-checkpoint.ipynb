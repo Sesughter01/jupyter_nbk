{
 "cells": [
  {
   "cell_type": "code",
   "execution_count": 16,
   "id": "a6fb975c",
   "metadata": {},
   "outputs": [],
   "source": [
    "import pymysql.cursors\n",
    "\n",
    "def write_to_db(accName, accNum,BVN,accountStatus):\n",
    "    # Connect to the database\n",
    "    connection = pymysql.connect(host='localhost',\n",
    "                             user='root',\n",
    "                             password='Kelikume11&&',\n",
    "                             database='interbank',\n",
    "                             cursorclass=pymysql.cursors.DictCursor)\n",
    "\n",
    "    with connection:\n",
    "        with connection.cursor() as cursor:\n",
    "            # Create a new record\n",
    "            sql = \"INSERT INTO `accounts` (accountName, accountNumber,BVN, accountStatus) VALUES ('{0}', '{1}','{2}','{3}')\"\n",
    "            cursor.execute(sql.format(accName, accNum,BVN, accountStatus))\n",
    "\n",
    "        # connection is not autocommit by default. So you must commit to save\n",
    "        # your changes.\n",
    "            connection.commit()"
   ]
  },
  {
   "cell_type": "code",
   "execution_count": 17,
   "id": "7f24cd3b",
   "metadata": {},
   "outputs": [],
   "source": [
    "import pymysql.cursors\n",
    "import csv\n",
    "\n",
    "with open('interbank_accts.csv') as csv_file:\n",
    "    csv_reader = csv.reader(csv_file, delimiter=',')\n",
    "#     print(list(csv_reader))\n",
    "    line_count = 0\n",
    "    for row in csv_reader:\n",
    "        if line_count == 0:\n",
    "            print(f'\\t{row[1].ljust(15)}  {row[2].ljust(25)} {row[3].ljust(15)} {row[4].rjust(9)}\\n')\n",
    "            write_to_db(row[0],row[1],row[2],row[3])\n",
    "            line_count += 1\n",
    "           \n",
    "            \n",
    "        else:\n",
    "            print(f'\\t{row[1].ljust(15)}  {row[2].ljust(25)} {row[3].ljust(15)} {row[4].rjust(9)} \\n')\n",
    "            \n",
    "            write_to_db(row[0],row[1],row[2],row[3])\n",
    "            line_count += 1    \n",
    "#         print(f'Processed {line_count} lines.')\n",
    "\n"
   ]
  },
  {
   "cell_type": "code",
   "execution_count": null,
   "id": "0e3099d3",
   "metadata": {},
   "outputs": [],
   "source": [
    "\n",
    "   "
   ]
  },
  {
   "cell_type": "code",
   "execution_count": null,
   "id": "294436f8",
   "metadata": {},
   "outputs": [],
   "source": []
  }
 ],
 "metadata": {
  "kernelspec": {
   "display_name": "Python 3 (ipykernel)",
   "language": "python",
   "name": "python3"
  },
  "language_info": {
   "codemirror_mode": {
    "name": "ipython",
    "version": 3
   },
   "file_extension": ".py",
   "mimetype": "text/x-python",
   "name": "python",
   "nbconvert_exporter": "python",
   "pygments_lexer": "ipython3",
   "version": "3.7.9"
  }
 },
 "nbformat": 4,
 "nbformat_minor": 5
}
